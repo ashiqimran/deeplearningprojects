{
 "cells": [
  {
   "cell_type": "code",
   "execution_count": 4,
   "metadata": {},
   "outputs": [
    {
     "name": "stdout",
     "output_type": "stream",
     "text": [
      "1.10.0\n"
     ]
    }
   ],
   "source": [
    "import tensorflow as tf\n",
    "from tensorflow import keras\n",
    "\n",
    "import numpy as np\n",
    "\n",
    "print(tf.__version__)"
   ]
  },
  {
   "cell_type": "code",
   "execution_count": 2,
   "metadata": {},
   "outputs": [],
   "source": [
    "#Importing Dataset"
   ]
  },
  {
   "cell_type": "code",
   "execution_count": 5,
   "metadata": {},
   "outputs": [],
   "source": [
    "imdb = keras.datasets.imdb\n",
    "\n",
    "(train_data,train_labels), (test_data, test_labels) = imdb.load_data(num_words = 10000)"
   ]
  },
  {
   "cell_type": "code",
   "execution_count": 6,
   "metadata": {},
   "outputs": [
    {
     "name": "stdout",
     "output_type": "stream",
     "text": [
      "Size of Training data  25000\n",
      "Size of Test data  25000\n"
     ]
    }
   ],
   "source": [
    "print('Size of Training data ', len(train_data))\n",
    "print('Size of Test data ', len(test_data))"
   ]
  },
  {
   "cell_type": "code",
   "execution_count": 7,
   "metadata": {},
   "outputs": [
    {
     "name": "stdout",
     "output_type": "stream",
     "text": [
      "[1, 14, 22, 16, 43, 530, 973, 1622, 1385, 65, 458, 4468, 66, 3941, 4, 173, 36, 256, 5, 25, 100, 43, 838, 112, 50, 670, 2, 9, 35, 480, 284, 5, 150, 4, 172, 112, 167, 2, 336, 385, 39, 4, 172, 4536, 1111, 17, 546, 38, 13, 447, 4, 192, 50, 16, 6, 147, 2025, 19, 14, 22, 4, 1920, 4613, 469, 4, 22, 71, 87, 12, 16, 43, 530, 38, 76, 15, 13, 1247, 4, 22, 17, 515, 17, 12, 16, 626, 18, 2, 5, 62, 386, 12, 8, 316, 8, 106, 5, 4, 2223, 5244, 16, 480, 66, 3785, 33, 4, 130, 12, 16, 38, 619, 5, 25, 124, 51, 36, 135, 48, 25, 1415, 33, 6, 22, 12, 215, 28, 77, 52, 5, 14, 407, 16, 82, 2, 8, 4, 107, 117, 5952, 15, 256, 4, 2, 7, 3766, 5, 723, 36, 71, 43, 530, 476, 26, 400, 317, 46, 7, 4, 2, 1029, 13, 104, 88, 4, 381, 15, 297, 98, 32, 2071, 56, 26, 141, 6, 194, 7486, 18, 4, 226, 22, 21, 134, 476, 26, 480, 5, 144, 30, 5535, 18, 51, 36, 28, 224, 92, 25, 104, 4, 226, 65, 16, 38, 1334, 88, 12, 16, 283, 5, 16, 4472, 113, 103, 32, 15, 16, 5345, 19, 178, 32]\n"
     ]
    }
   ],
   "source": [
    "print(train_data[0])"
   ]
  },
  {
   "cell_type": "code",
   "execution_count": 8,
   "metadata": {},
   "outputs": [
    {
     "name": "stdout",
     "output_type": "stream",
     "text": [
      "Size of first training example  218\n",
      "Size of first test example  68\n"
     ]
    }
   ],
   "source": [
    "print('Size of first training example ', len(train_data[0]))\n",
    "print('Size of first test example ', len(test_data[0]))"
   ]
  },
  {
   "cell_type": "code",
   "execution_count": 9,
   "metadata": {},
   "outputs": [],
   "source": [
    "#Process the Data"
   ]
  },
  {
   "cell_type": "code",
   "execution_count": 11,
   "metadata": {},
   "outputs": [],
   "source": [
    "train_data = keras.preprocessing.sequence.pad_sequences(train_data,\n",
    "                                                         value=0,\n",
    "                                                         padding='post',\n",
    "                                                         maxlen=256)\n",
    "test_data = keras.preprocessing.sequence.pad_sequences(test_data,\n",
    "                                                        value=0,\n",
    "                                                        padding='post',\n",
    "                                                        maxlen=256)"
   ]
  },
  {
   "cell_type": "code",
   "execution_count": 14,
   "metadata": {},
   "outputs": [
    {
     "name": "stdout",
     "output_type": "stream",
     "text": [
      "Size of training data 256\n",
      "[   1   14   22   16   43  530  973 1622 1385   65  458 4468   66 3941\n",
      "    4  173   36  256    5   25  100   43  838  112   50  670    2    9\n",
      "   35  480  284    5  150    4  172  112  167    2  336  385   39    4\n",
      "  172 4536 1111   17  546   38   13  447    4  192   50   16    6  147\n",
      " 2025   19   14   22    4 1920 4613  469    4   22   71   87   12   16\n",
      "   43  530   38   76   15   13 1247    4   22   17  515   17   12   16\n",
      "  626   18    2    5   62  386   12    8  316    8  106    5    4 2223\n",
      " 5244   16  480   66 3785   33    4  130   12   16   38  619    5   25\n",
      "  124   51   36  135   48   25 1415   33    6   22   12  215   28   77\n",
      "   52    5   14  407   16   82    2    8    4  107  117 5952   15  256\n",
      "    4    2    7 3766    5  723   36   71   43  530  476   26  400  317\n",
      "   46    7    4    2 1029   13  104   88    4  381   15  297   98   32\n",
      " 2071   56   26  141    6  194 7486   18    4  226   22   21  134  476\n",
      "   26  480    5  144   30 5535   18   51   36   28  224   92   25  104\n",
      "    4  226   65   16   38 1334   88   12   16  283    5   16 4472  113\n",
      "  103   32   15   16 5345   19  178   32    0    0    0    0    0    0\n",
      "    0    0    0    0    0    0    0    0    0    0    0    0    0    0\n",
      "    0    0    0    0    0    0    0    0    0    0    0    0    0    0\n",
      "    0    0    0    0]\n"
     ]
    }
   ],
   "source": [
    "print('Size of training data', len(train_data[0]))\n",
    "print(train_data[0])"
   ]
  },
  {
   "cell_type": "code",
   "execution_count": 15,
   "metadata": {},
   "outputs": [],
   "source": [
    "#Build the model"
   ]
  },
  {
   "cell_type": "code",
   "execution_count": 16,
   "metadata": {},
   "outputs": [
    {
     "name": "stdout",
     "output_type": "stream",
     "text": [
      "_________________________________________________________________\n",
      "Layer (type)                 Output Shape              Param #   \n",
      "=================================================================\n",
      "embedding (Embedding)        (None, None, 16)          160000    \n",
      "_________________________________________________________________\n",
      "global_average_pooling1d (Gl (None, 16)                0         \n",
      "=================================================================\n",
      "Total params: 160,000\n",
      "Trainable params: 160,000\n",
      "Non-trainable params: 0\n",
      "_________________________________________________________________\n"
     ]
    }
   ],
   "source": [
    "model = keras.Sequential()\n",
    "\n",
    "model.add(keras.layers.Embedding(10000, 16))\n",
    "model.add(keras.layers.GlobalAveragePooling1D())\n",
    "\n",
    "model.summary()"
   ]
  },
  {
   "cell_type": "code",
   "execution_count": 17,
   "metadata": {},
   "outputs": [
    {
     "name": "stdout",
     "output_type": "stream",
     "text": [
      "_________________________________________________________________\n",
      "Layer (type)                 Output Shape              Param #   \n",
      "=================================================================\n",
      "embedding (Embedding)        (None, None, 16)          160000    \n",
      "_________________________________________________________________\n",
      "global_average_pooling1d (Gl (None, 16)                0         \n",
      "_________________________________________________________________\n",
      "dense (Dense)                (None, 16)                272       \n",
      "_________________________________________________________________\n",
      "dense_1 (Dense)              (None, 1)                 17        \n",
      "=================================================================\n",
      "Total params: 160,289\n",
      "Trainable params: 160,289\n",
      "Non-trainable params: 0\n",
      "_________________________________________________________________\n"
     ]
    }
   ],
   "source": [
    "model.add(keras.layers.Dense(16, activation=tf.nn.relu))\n",
    "model.add(keras.layers.Dense(1, activation=tf.nn.sigmoid))\n",
    "\n",
    "model.summary()"
   ]
  },
  {
   "cell_type": "code",
   "execution_count": 18,
   "metadata": {},
   "outputs": [],
   "source": [
    "model.compile(optimizer=tf.train.AdamOptimizer(),\n",
    "             loss='binary_crossentropy',\n",
    "              metrics=['accuracy'])"
   ]
  },
  {
   "cell_type": "code",
   "execution_count": 19,
   "metadata": {},
   "outputs": [],
   "source": [
    "x_val = train_data[:10000]\n",
    "partial_x_train = train_data[10000:]\n",
    "y_val = train_labels[:10000]\n",
    "partial_y_train = train_labels[10000:]"
   ]
  },
  {
   "cell_type": "code",
   "execution_count": 20,
   "metadata": {},
   "outputs": [],
   "source": [
    "#Train the model"
   ]
  },
  {
   "cell_type": "code",
   "execution_count": 21,
   "metadata": {},
   "outputs": [
    {
     "name": "stdout",
     "output_type": "stream",
     "text": [
      "Train on 15000 samples, validate on 10000 samples\n",
      "Epoch 1/40\n",
      "15000/15000 [==============================] - 3s 175us/step - loss: 0.7240 - acc: 0.5058 - val_loss: 0.6912 - val_acc: 0.5313\n",
      "Epoch 2/40\n",
      "15000/15000 [==============================] - 1s 91us/step - loss: 0.6897 - acc: 0.5491 - val_loss: 0.6881 - val_acc: 0.5796\n",
      "Epoch 3/40\n",
      "15000/15000 [==============================] - 1s 91us/step - loss: 0.6856 - acc: 0.6008 - val_loss: 0.6850 - val_acc: 0.5995\n",
      "Epoch 4/40\n",
      "15000/15000 [==============================] - 1s 91us/step - loss: 0.6819 - acc: 0.6563 - val_loss: 0.6815 - val_acc: 0.6188\n",
      "Epoch 5/40\n",
      "15000/15000 [==============================] - 1s 91us/step - loss: 0.6775 - acc: 0.6625 - val_loss: 0.6766 - val_acc: 0.6957\n",
      "Epoch 6/40\n",
      "15000/15000 [==============================] - 1s 92us/step - loss: 0.6720 - acc: 0.7238 - val_loss: 0.6709 - val_acc: 0.7208\n",
      "Epoch 7/40\n",
      "15000/15000 [==============================] - 1s 94us/step - loss: 0.6647 - acc: 0.7437 - val_loss: 0.6639 - val_acc: 0.7160\n",
      "Epoch 8/40\n",
      "15000/15000 [==============================] - 1s 94us/step - loss: 0.6556 - acc: 0.7570 - val_loss: 0.6548 - val_acc: 0.7325\n",
      "Epoch 9/40\n",
      "15000/15000 [==============================] - 1s 91us/step - loss: 0.6442 - acc: 0.7667 - val_loss: 0.6426 - val_acc: 0.7522\n",
      "Epoch 10/40\n",
      "15000/15000 [==============================] - 1s 92us/step - loss: 0.6298 - acc: 0.7809 - val_loss: 0.6279 - val_acc: 0.7640\n",
      "Epoch 11/40\n",
      "15000/15000 [==============================] - 1s 94us/step - loss: 0.6126 - acc: 0.7784 - val_loss: 0.6109 - val_acc: 0.7686\n",
      "Epoch 12/40\n",
      "15000/15000 [==============================] - 1s 93us/step - loss: 0.5914 - acc: 0.7945 - val_loss: 0.5899 - val_acc: 0.7792\n",
      "Epoch 13/40\n",
      "15000/15000 [==============================] - 1s 94us/step - loss: 0.5664 - acc: 0.8041 - val_loss: 0.5664 - val_acc: 0.7902\n",
      "Epoch 14/40\n",
      "15000/15000 [==============================] - 1s 94us/step - loss: 0.5393 - acc: 0.8147 - val_loss: 0.5407 - val_acc: 0.8009\n",
      "Epoch 15/40\n",
      "15000/15000 [==============================] - 1s 93us/step - loss: 0.5108 - acc: 0.8262 - val_loss: 0.5146 - val_acc: 0.8094\n",
      "Epoch 16/40\n",
      "15000/15000 [==============================] - 1s 93us/step - loss: 0.4829 - acc: 0.8356 - val_loss: 0.4895 - val_acc: 0.8186\n",
      "Epoch 17/40\n",
      "15000/15000 [==============================] - 1s 93us/step - loss: 0.4545 - acc: 0.8486 - val_loss: 0.4657 - val_acc: 0.8311\n",
      "Epoch 18/40\n",
      "15000/15000 [==============================] - 1s 96us/step - loss: 0.4282 - acc: 0.8587 - val_loss: 0.4429 - val_acc: 0.8374\n",
      "Epoch 19/40\n",
      "15000/15000 [==============================] - 1s 97us/step - loss: 0.4040 - acc: 0.8671 - val_loss: 0.4226 - val_acc: 0.8447\n",
      "Epoch 20/40\n",
      "15000/15000 [==============================] - 1s 100us/step - loss: 0.3818 - acc: 0.8727 - val_loss: 0.4045 - val_acc: 0.8500\n",
      "Epoch 21/40\n",
      "15000/15000 [==============================] - 1s 96us/step - loss: 0.3616 - acc: 0.8796 - val_loss: 0.3886 - val_acc: 0.8560\n",
      "Epoch 22/40\n",
      "15000/15000 [==============================] - 1s 97us/step - loss: 0.3438 - acc: 0.8845 - val_loss: 0.3748 - val_acc: 0.8593\n",
      "Epoch 23/40\n",
      "15000/15000 [==============================] - 1s 96us/step - loss: 0.3281 - acc: 0.8889 - val_loss: 0.3634 - val_acc: 0.8618\n",
      "Epoch 24/40\n",
      "15000/15000 [==============================] - 1s 94us/step - loss: 0.3134 - acc: 0.8935 - val_loss: 0.3526 - val_acc: 0.8680\n",
      "Epoch 25/40\n",
      "15000/15000 [==============================] - 1s 96us/step - loss: 0.3006 - acc: 0.8983 - val_loss: 0.3436 - val_acc: 0.8713\n",
      "Epoch 26/40\n",
      "15000/15000 [==============================] - 1s 97us/step - loss: 0.2889 - acc: 0.9005 - val_loss: 0.3363 - val_acc: 0.8715\n",
      "Epoch 27/40\n",
      "15000/15000 [==============================] - 1s 94us/step - loss: 0.2787 - acc: 0.9021 - val_loss: 0.3294 - val_acc: 0.8731\n",
      "Epoch 28/40\n",
      "15000/15000 [==============================] - 1s 95us/step - loss: 0.2685 - acc: 0.9065 - val_loss: 0.3230 - val_acc: 0.8764\n",
      "Epoch 29/40\n",
      "15000/15000 [==============================] - 1s 93us/step - loss: 0.2596 - acc: 0.9092 - val_loss: 0.3182 - val_acc: 0.8768\n",
      "Epoch 30/40\n",
      "15000/15000 [==============================] - 1s 93us/step - loss: 0.2521 - acc: 0.9099 - val_loss: 0.3133 - val_acc: 0.8788\n",
      "Epoch 31/40\n",
      "15000/15000 [==============================] - 1s 95us/step - loss: 0.2435 - acc: 0.9147 - val_loss: 0.3096 - val_acc: 0.8784\n",
      "Epoch 32/40\n",
      "15000/15000 [==============================] - 1s 95us/step - loss: 0.2368 - acc: 0.9167 - val_loss: 0.3059 - val_acc: 0.8810\n",
      "Epoch 33/40\n",
      "15000/15000 [==============================] - 1s 95us/step - loss: 0.2293 - acc: 0.9201 - val_loss: 0.3028 - val_acc: 0.8820\n",
      "Epoch 34/40\n",
      "15000/15000 [==============================] - 1s 94us/step - loss: 0.2229 - acc: 0.9217 - val_loss: 0.3003 - val_acc: 0.8827\n",
      "Epoch 35/40\n",
      "15000/15000 [==============================] - 1s 95us/step - loss: 0.2173 - acc: 0.9232 - val_loss: 0.2976 - val_acc: 0.8817\n",
      "Epoch 36/40\n",
      "15000/15000 [==============================] - 1s 96us/step - loss: 0.2109 - acc: 0.9267 - val_loss: 0.2955 - val_acc: 0.8838\n",
      "Epoch 37/40\n",
      "15000/15000 [==============================] - 1s 97us/step - loss: 0.2054 - acc: 0.9285 - val_loss: 0.2937 - val_acc: 0.8846\n",
      "Epoch 38/40\n",
      "15000/15000 [==============================] - 1s 94us/step - loss: 0.2001 - acc: 0.9300 - val_loss: 0.2919 - val_acc: 0.8846\n",
      "Epoch 39/40\n",
      "15000/15000 [==============================] - 1s 96us/step - loss: 0.1946 - acc: 0.9322 - val_loss: 0.2905 - val_acc: 0.8851\n",
      "Epoch 40/40\n",
      "15000/15000 [==============================] - 1s 96us/step - loss: 0.1898 - acc: 0.9343 - val_loss: 0.2890 - val_acc: 0.8859\n"
     ]
    }
   ],
   "source": [
    "history = model.fit(partial_x_train,\n",
    "                   partial_y_train,\n",
    "                   epochs=40,\n",
    "                   batch_size=512,\n",
    "                   validation_data=(x_val, y_val),\n",
    "                   verbose=1)"
   ]
  },
  {
   "cell_type": "code",
   "execution_count": 22,
   "metadata": {},
   "outputs": [],
   "source": [
    "#Testing the model"
   ]
  },
  {
   "cell_type": "code",
   "execution_count": 23,
   "metadata": {},
   "outputs": [
    {
     "name": "stdout",
     "output_type": "stream",
     "text": [
      "25000/25000 [==============================] - 1s 23us/step\n",
      "Accuracy on the test set:  0.87588\n"
     ]
    }
   ],
   "source": [
    "test_loss, test_acc = model.evaluate(test_data, test_labels)\n",
    "print('Accuracy on the test set: ', test_acc)"
   ]
  },
  {
   "cell_type": "code",
   "execution_count": 24,
   "metadata": {},
   "outputs": [],
   "source": [
    "#Plot loss and Accuracy "
   ]
  },
  {
   "cell_type": "code",
   "execution_count": 25,
   "metadata": {},
   "outputs": [
    {
     "data": {
      "text/plain": [
       "dict_keys(['val_loss', 'val_acc', 'loss', 'acc'])"
      ]
     },
     "execution_count": 25,
     "metadata": {},
     "output_type": "execute_result"
    }
   ],
   "source": [
    "history_dict = history.history\n",
    "history_dict.keys()"
   ]
  },
  {
   "cell_type": "code",
   "execution_count": 27,
   "metadata": {},
   "outputs": [
    {
     "data": {
      "image/png": "[encoded data removed]",
      "text/plain": [
       "<Figure size 432x288 with 1 Axes>"
      ]
     },
     "metadata": {},
     "output_type": "display_data"
    }
   ],
   "source": [
    "import matplotlib.pyplot as plt\n",
    "%matplotlib inline\n",
    "\n",
    "acc = history_dict['acc']\n",
    "loss = history_dict['loss']\n",
    "val_acc = history_dict['val_acc']\n",
    "val_loss = history_dict['val_loss']\n",
    "\n",
    "epochs = range(1,len(acc) + 1)\n",
    "\n",
    "plt.plot(epochs, loss, 'b', label='Training loss')\n",
    "plt.plot(epochs, val_loss, 'r', label='Validation loss')\n",
    "\n",
    "plt.title('Training and Validation loss')\n",
    "plt.xlabel('Epochs')\n",
    "plt.ylabel('Loss')\n",
    "plt.legend()\n",
    "\n",
    "plt.show()"
   ]
  },
  {
   "cell_type": "code",
   "execution_count": 29,
   "metadata": {},
   "outputs": [
    {
     "data": {
      "image/png": "[encoded data removed]",
      "text/plain": [
       "<Figure size 432x288 with 1 Axes>"
      ]
     },
     "metadata": {},
     "output_type": "display_data"
    }
   ],
   "source": [
    "plt.clf()\n",
    "plt.plot(epochs, acc, 'b', label='Training Accuracy')\n",
    "plt.plot(epochs, val_acc, 'r', label='Validation Accuracy')\n",
    "\n",
    "plt.title('Training and Validation Accuracy')\n",
    "plt.xlabel('Epochs')\n",
    "plt.ylabel('Loss')\n",
    "plt.legend()\n",
    "\n",
    "plt.show()"
   ]
  },
  {
   "cell_type": "code",
   "execution_count": null,
   "metadata": {},
   "outputs": [],
   "source": []
  }
 ],
 "metadata": {
  "kernelspec": {
   "display_name": "Python 3",
   "language": "python",
   "name": "python3"
  },
  "language_info": {
   "codemirror_mode": {
    "name": "ipython",
    "version": 3
   },
   "file_extension": ".py",
   "mimetype": "text/x-python",
   "name": "python",
   "nbconvert_exporter": "python",
   "pygments_lexer": "ipython3",
   "version": "3.6.5"
  }
 },
 "nbformat": 4,
 "nbformat_minor": 2
}
